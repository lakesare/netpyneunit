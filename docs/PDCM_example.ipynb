{
  "nbformat": 4,
  "nbformat_minor": 0,
  "metadata": {
    "colab": {
      "name": "PDCM_example.ipynb",
      "provenance": [],
      "collapsed_sections": [],
      "toc_visible": true,
      "include_colab_link": true
    },
    "kernelspec": {
      "name": "python3",
      "display_name": "Python 3"
    },
    "language_info": {
      "name": "python"
    }
  },
  "cells": [
    {
      "cell_type": "markdown",
      "metadata": {
        "id": "view-in-github",
        "colab_type": "text"
      },
      "source": [
        "<a href=\"https://colab.research.google.com/github/russelljjarvis/netpyneunit/blob/main/docs/PDCM_example.ipynb\" target=\"_parent\"><img src=\"https://colab.research.google.com/assets/colab-badge.svg\" alt=\"Open In Colab\"/></a>"
      ]
    },
    {
      "cell_type": "markdown",
      "metadata": {
        "id": "K5fVY2o0Kq-i"
      },
      "source": [
        "<a href=\"https://colab.research.google.com/github/lakesare/netpyneunit/blob/main/docs/PDCM_example.ipynb\">\n",
        "  <img src=\"https://colab.research.google.com/assets/colab-badge.svg\" alt=\"Open In Colab\"/>\n",
        "</a>\n",
        "\n",
        "\n",
        "\n",
        "---\n",
        "\n"
      ]
    },
    {
      "cell_type": "markdown",
      "metadata": {
        "id": "ekVrygCmrTqD"
      },
      "source": [
        "# Description\n",
        "\n",
        "This example recreates the [PDCM paper](https://direct.mit.edu/neco/article-pdf/33/7/1993/1925382/neco_a_01400.pdf) (Romaro & Salvador Dura-Bernal, et al., 2021) in **SciUnit**.  \n",
        "\n",
        "The **PDCM** (**Potjans-Diesmann Cortical Microcircuit**) paper describes the process of converting the model of the 1mm2 sensory cortical network from **NEST** to **NetPyNE**, and of rescaling the resulting **NetPyNE** network while preserving the first- and second-order statistics.  \n",
        "See [Github](https://github.com/ceciliaromaro/PDCM_NetPyNE) for the **NetPyNE** code.\n",
        "\n",
        "Our colab doesn't recreate the entire paper: the **run.py** file recreates **Table A1** and **Table A2**, and each of these will take hours to run on a single core.  \n",
        "In this colab, we will show the **first 2 rows** of the **Table A1**: the **1%** and the **2%** **NetPyNE** model, tested for the population mean firing rate against the **100%**-sized network.  \n",
        "The only difference between the code used in the original paper, and the code we use in this colab is that they run the simulation for 60 seconds, and we run it for 1 second - again, to shorten the waiting time. This does not affect the results significantly."
      ]
    },
    {
      "cell_type": "markdown",
      "metadata": {
        "id": "SF1aJi-hka8a"
      },
      "source": [
        "# Install the packages"
      ]
    },
    {
      "cell_type": "code",
      "metadata": {
        "id": "d3BAWD54OMjH"
      },
      "source": [
        "%%capture\n",
        "!pip install https://github.com/lakesare/netpyneunit/archive/refs/heads/main.zip\n",
        "!pip install neuron\n",
        "!git clone https://github.com/lakesare/netpyneunit.git"
      ],
      "execution_count": 1,
      "outputs": []
    },
    {
      "cell_type": "markdown",
      "metadata": {
        "id": "bWdZldRgkmG2"
      },
      "source": [
        "# Run the example"
      ]
    },
    {
      "cell_type": "markdown",
      "metadata": {
        "id": "Kndisr2eoRL2"
      },
      "source": [
        "Enter the **PDCM example** directory: "
      ]
    },
    {
      "cell_type": "code",
      "metadata": {
        "id": "plySE0NxfZSE",
        "colab": {
          "base_uri": "https://localhost:8080/"
        },
        "outputId": "8e347e67-7171-4e56-eb31-142c360b4dde"
      },
      "source": [
        "%cd netpyneunit/examples/pdcm"
      ],
      "execution_count": 2,
      "outputs": [
        {
          "output_type": "stream",
          "name": "stdout",
          "text": [
            "/content/netpyneunit/examples/pdcm\n"
          ]
        }
      ]
    },
    {
      "cell_type": "markdown",
      "metadata": {
        "id": "EW9MHV2oocII"
      },
      "source": [
        "Compile our **examples/pdcm/*.mod** files:"
      ]
    },
    {
      "cell_type": "code",
      "metadata": {
        "id": "2cz2Gk_KS5Kn",
        "colab": {
          "base_uri": "https://localhost:8080/"
        },
        "outputId": "6a8362a8-839b-41f8-9dc9-0200a194d70b"
      },
      "source": [
        "!nrnivmodl"
      ],
      "execution_count": 3,
      "outputs": [
        {
          "output_type": "stream",
          "name": "stdout",
          "text": [
            "/content/netpyneunit/examples/pdcm\n",
            "Mod files: \"./intFire_PD.mod\"\n",
            "\n",
            "Creating x86_64 directory for .o files.\n",
            "\n",
            "COBJS=''\n",
            " -> \u001b[32mCompiling\u001b[0m mod_func.c\n",
            "x86_64-linux-gnu-gcc -O2   -I.   -I/usr/local/lib/python3.7/dist-packages/neuron/.data/include  -I/nrnwheel/openmpi/include -fPIC -c mod_func.c -o mod_func.o\n",
            " -> \u001b[32mNMODL\u001b[0m ../intFire_PD.mod\n",
            "(cd \"..\"; MODLUNIT=/usr/local/lib/python3.7/dist-packages/neuron/.data/share/nrn/lib/nrnunits.lib /usr/local/lib/python3.7/dist-packages/neuron/.data/bin/nocmodl intFire_PD.mod -o \"/content/netpyneunit/examples/pdcm/x86_64\")\n",
            "Translating intFire_PD.mod into /content/netpyneunit/examples/pdcm/x86_64/intFire_PD.c\n",
            "Thread Safe\n",
            " -> \u001b[32mCompiling\u001b[0m intFire_PD.c\n",
            "x86_64-linux-gnu-gcc -O2   -I\"..\" -I.   -I/usr/local/lib/python3.7/dist-packages/neuron/.data/include  -I/nrnwheel/openmpi/include -fPIC -c intFire_PD.c -o intFire_PD.o\n",
            " => \u001b[32mLINKING\u001b[0m shared library ./libnrnmech.so\n",
            "x86_64-linux-gnu-g++ -O2 -DVERSION_INFO='8.0.0' -std=c++11 -shared -fPIC  -I /usr/local/lib/python3.7/dist-packages/neuron/.data/include -o ./libnrnmech.so -Wl,-soname,libnrnmech.so \\\n",
            "  ./mod_func.o ./intFire_PD.o  -L/usr/local/lib/python3.7/dist-packages/neuron/.data/lib -lnrniv -Wl,-rpath,/usr/local/lib/python3.7/dist-packages/neuron/.data/lib   \n",
            "rm -f ./.libs/libnrnmech.so ; mkdir -p ./.libs ; cp ./libnrnmech.so ./.libs/libnrnmech.so\n",
            "Successfully created x86_64/special\n"
          ]
        }
      ]
    },
    {
      "cell_type": "markdown",
      "metadata": {
        "id": "42bqx1dHowv5"
      },
      "source": [
        "Import the **examples/pdcm/*** classes.  "
      ]
    },
    {
      "cell_type": "code",
      "metadata": {
        "id": "pln9lYdmd45y",
        "outputId": "382ae76b-cdda-4960-9371-74f4c7b632a7",
        "colab": {
          "base_uri": "https://localhost:8080/"
        }
      },
      "source": [
        "import sciunit\n",
        "from PdcmModel import PdcmModel\n",
        "from tests import PopulationMeanFiringRateTest"
      ],
      "execution_count": 4,
      "outputs": [
        {
          "output_type": "stream",
          "name": "stderr",
          "text": [
            "Config file not found at '/root/.sciunit/config.json'; creating new one\n"
          ]
        }
      ]
    },
    {
      "cell_type": "markdown",
      "metadata": {
        "id": "k71o4s3oU5jF"
      },
      "source": [
        "### Surveying Table A1\n",
        "\n",
        "Let's take a look at **Table A1** of the [PDCM paper](https://direct.mit.edu/neco/article-pdf/33/7/1993/1925382/neco_a_01400.pdf).  \n",
        "The **NEST trial** row shows the stats of the **NEST** model (Gewaltig\n",
        "& Diesmann, 2007) the paper tried to recreate.  \n",
        "The **100%** row shows the stats of the full-scale **NetPyNE** model.  \n",
        "The **80%**, **...**, **1%** rows show the stats of various scalings of the **NetPyNE** model.\n",
        "\n",
        "___ \n",
        "\n",
        "A brief note on what it means to *rescale* the model of a neural network.  \n",
        "The **100% NetPyNE** network contains exactly **77169** neurons.  \n",
        "We cannot simply cut the number of neurons down to **7717**, and expect our network to be comparable to the full-sized network - we need to additionally adapt the number of connections, external inputs and synaptic weights.\n",
        "\n",
        "To quote the PDCM paper, we need to:\n",
        "1. Multiply number of cells in each population by k.\n",
        "2. Multiply number of connections per population by k^2.\n",
        "3. Multiply synaptic weights by 1/√k .\n",
        "4. Calculate lost input for each cell and provide compensatory DC input\n",
        "current.\n",
        "\n",
        "in order to preserve first- and second-order statistics of our model. \n",
        "\n",
        "This is done in the `Reescale` method in our `PdcmModel` (see [line 108](https://github.com/lakesare/netpyneunit/blob/432533cf70f4225b056ec0832340358b2f4d6a97/examples/pdcm/PdcmModel.py#L108)).  \n",
        "Every time we write `PdcmModel(name=\"2%\", scale=0.02, ...)` - this method helps us determine **NetPyNE** parameters that would, hopefully, result in preserving the results of the model with `scale=1`.\n",
        "\n",
        "___\n",
        "\n",
        "We take the stats of the **100% NetPyNE** model as our ideal result (or observation in the parlance of **SciUnit**), and try to determine how closely **1%** and **2%-scaled NetPyNE** models can match it.\n",
        "\n",
        "<img width=800 src=\"https://drive.google.com/uc?id=1l2nFa4iz4Vb4wDkynHIiHcyqrpDA-paf\"/>"
      ]
    },
    {
      "cell_type": "markdown",
      "metadata": {
        "id": "PjFT8VJ4X5P0"
      },
      "source": [
        "### Defining our models\n",
        "\n",
        "**PdcmModel** injects the global `sim` object with the data suitable for the current model.  \n",
        "Once a particular model (e.g. `model_1`) runs, the results will be cached.  \n",
        "For example, if we didn't have cache enabled, each test would rerun the model. Currently, only the first test will execute `sim.runSim()`.\n",
        "\n",
        "Just like in the **Table A1**, the external input for our sims is **Balanced Poisson**.  \n",
        "The **duration**, however, is set to **1 second**. Feel free to change it to **60 seconds** if you're willing to sacrifice some time to hit closer to the results in the paper!\n"
      ]
    },
    {
      "cell_type": "code",
      "metadata": {
        "id": "nGHCUfSfX268"
      },
      "source": [
        "model_2 = PdcmModel(name=\"2%\", scale=0.02, ext_input=\"balanced_poisson\", duration=1*1e3)\n",
        "model_1 = PdcmModel(name=\"1%\", scale=0.01, ext_input=\"balanced_poisson\", duration=1*1e3)"
      ],
      "execution_count": 5,
      "outputs": []
    },
    {
      "cell_type": "markdown",
      "metadata": {
        "id": "XtHJBRR2b0pq"
      },
      "source": [
        "### Setting up our tests  \n",
        "\n",
        "Each `'value'` represents the perfect value our resized models should strive to achieve.  \n",
        "For example, the **100% NetPyNE** model has the **population mean firing rate** of **0.90** in the layer **L2e/L3e**.  \n",
        "We hope our **model_1** and **model_2** have similar stats in this layer.  \n",
        "\n",
        "Just like in the paper, we want to see the \"**relative deviation**\" between the perfect value and the model result. Our `PopulationMeanFiringRateTest` calculates this value using the `sciunit.scores.RelativeDifferenceScore` class native to **SciUnit**.\n"
      ]
    },
    {
      "cell_type": "code",
      "metadata": {
        "id": "1XghmBi0eBGf",
        "colab": {
          "base_uri": "https://localhost:8080/"
        },
        "outputId": "f236c972-b916-4504-ab5c-dc752bf7b7e5"
      },
      "source": [
        "%%capture\n",
        "test_L2e = PopulationMeanFiringRateTest({ 'value': 0.90, 'layer': 'L2e' }, name='L2e')\n",
        "test_L2i = PopulationMeanFiringRateTest({ 'value': 2.80, 'layer': 'L2i' }, name='L2i')\n",
        "test_L4e = PopulationMeanFiringRateTest({ 'value': 4.39, 'layer': 'L4e' }, name='L4e')\n",
        "test_L4i = PopulationMeanFiringRateTest({ 'value': 5.70, 'layer': 'L4i' }, name='L4i')\n",
        "test_L5e = PopulationMeanFiringRateTest({ 'value': 6.80, 'layer': 'L5e' }, name='L5e')\n",
        "test_L5i = PopulationMeanFiringRateTest({ 'value': 8.22, 'layer': 'L5i' }, name='L5i')\n",
        "test_L6e = PopulationMeanFiringRateTest({ 'value': 1.14, 'layer': 'L6e' }, name='L6e')\n",
        "test_L6i = PopulationMeanFiringRateTest({ 'value': 7.60, 'layer': 'L6i' }, name='L6i')\n",
        "\n",
        "suite = sciunit.TestSuite(\n",
        "  [test_L2e, test_L2i, test_L4e, test_L4i, test_L5e, test_L5i, test_L6e, test_L6i],\n",
        "  name=\"Population Mean Firing Rate: Balanced Poisson\"\n",
        ")\n",
        "score_matrix = suite.judge(\n",
        "  [model_2, model_1]\n",
        ")"
      ],
      "execution_count": 6,
      "outputs": [
        {
          "output_type": "stream",
          "name": "stdout",
          "text": [
            "\u001b[38;2;152;211;104m\u001b[48;2;50;50;50mScore: 0.69 (23.06%) for 2% on L2e\u001b[0m\n",
            "\u001b[38;2;185;226;118m\u001b[48;2;50;50;50mScore: 3.84 (37.32%) for 2% on L2i\u001b[0m\n",
            "\u001b[38;2;72;175;91m\u001b[48;2;50;50;50mScore: 4.30 (2.12%) for 2% on L4e\u001b[0m\n",
            "\u001b[38;2;84;181;94m\u001b[48;2;50;50;50mScore: 5.95 (4.46%) for 2% on L4i\u001b[0m\n",
            "\u001b[38;2;96;186;97m\u001b[48;2;50;50;50mScore: 7.25 (6.58%) for 2% on L5e\u001b[0m\n",
            "\u001b[38;2;87;182;95m\u001b[48;2;50;50;50mScore: 8.62 (4.85%) for 2% on L5i\u001b[0m\n",
            "\u001b[38;2;125;199;101m\u001b[48;2;50;50;50mScore: 0.98 (14.42%) for 2% on L6e\u001b[0m\n",
            "\u001b[38;2;87;182;95m\u001b[48;2;50;50;50mScore: 7.98 (5.04%) for 2% on L6i\u001b[0m\n",
            "\u001b[38;2;132;202;102m\u001b[48;2;50;50;50mScore: 0.75 (16.40%) for 1% on L2e\u001b[0m\n",
            "\u001b[38;2;209;236;134m\u001b[48;2;50;50;50mScore: 4.21 (50.25%) for 1% on L2i\u001b[0m\n",
            "\u001b[38;2;112;194;100m\u001b[48;2;50;50;50mScore: 3.92 (10.65%) for 1% on L4e\u001b[0m\n",
            "\u001b[38;2;84;181;94m\u001b[48;2;50;50;50mScore: 5.46 (4.16%) for 1% on L4i\u001b[0m\n",
            "\u001b[38;2;165;217;106m\u001b[48;2;50;50;50mScore: 8.62 (26.84%) for 1% on L5e\u001b[0m\n",
            "\u001b[38;2;102;189;99m\u001b[48;2;50;50;50mScore: 8.90 (8.27%) for 1% on L5i\u001b[0m\n",
            "\u001b[38;2;122;198;101m\u001b[48;2;50;50;50mScore: 0.99 (13.51%) for 1% on L6e\u001b[0m\n",
            "\u001b[38;2;66;172;90m\u001b[48;2;50;50;50mScore: 7.66 (0.73%) for 1% on L6i\u001b[0m\n"
          ]
        }
      ]
    },
    {
      "cell_type": "markdown",
      "metadata": {
        "id": "uJJTsn5Xe5RQ"
      },
      "source": [
        "### Finally, the results\n",
        "\n",
        "Take a look at the **NetpyneUnit** table below, and compare it to the **Table A1** from the paper.\n",
        "\n",
        "`___Table A1, 2% model, L2e:` **0.69 (23%)**  \n",
        "`Our results, 2% model, L2e:` **0.69 (23.06%)**  \n",
        "\n",
        "`___Table A1, 1% model, L2e:` **0.71 (21%)**   \n",
        "`Our results, 1% model, L2e:` **0.75 (16.40%)**  \n",
        "\n",
        "`___Table A1, 2% model, L2i:` **3.8 (36%)**  \n",
        "`Our results, 2% model, L2e:` **3.84 (37.32%)**  \n",
        "\n",
        "🍀 **Our results match the results in the paper** 🍀  \n",
        "(It's also expected that our results won't match completely.\n",
        "The initial values for the membrane potential of each neuron in our **NetPyNE** model are randomized; the **Balanced Poisson** external input additionally introduces other sources of randomness.\n",
        "And again - we run our simulation for 1 second, they run it for 60 seconds)\n"
      ]
    },
    {
      "cell_type": "code",
      "metadata": {
        "colab": {
          "base_uri": "https://localhost:8080/",
          "height": 300
        },
        "id": "CopLYyxFe7wu",
        "outputId": "d12a62d1-5e9d-4c27-94e8-48f785cdf127"
      },
      "source": [
        "score_matrix = pd.DataFrame(score_matrix)\n",
        "score_matrix.T"
      ],
      "execution_count": 16,
      "outputs": [
        {
          "output_type": "execute_result",
          "data": {
            "text/html": [
              "\n",
              "  <div id=\"df-9c6f0fe9-c3c5-4df4-b8d6-13836659c5fa\">\n",
              "    <div class=\"colab-df-container\">\n",
              "      <div>\n",
              "<style scoped>\n",
              "    .dataframe tbody tr th:only-of-type {\n",
              "        vertical-align: middle;\n",
              "    }\n",
              "\n",
              "    .dataframe tbody tr th {\n",
              "        vertical-align: top;\n",
              "    }\n",
              "\n",
              "    .dataframe thead th {\n",
              "        text-align: right;\n",
              "    }\n",
              "</style>\n",
              "<table border=\"1\" class=\"dataframe\">\n",
              "  <thead>\n",
              "    <tr style=\"text-align: right;\">\n",
              "      <th></th>\n",
              "      <th>2%</th>\n",
              "      <th>1%</th>\n",
              "    </tr>\n",
              "  </thead>\n",
              "  <tbody>\n",
              "    <tr>\n",
              "      <th>L2e</th>\n",
              "      <td>0.69 (23.06%)</td>\n",
              "      <td>0.75 (16.40%)</td>\n",
              "    </tr>\n",
              "    <tr>\n",
              "      <th>L2i</th>\n",
              "      <td>3.84 (37.32%)</td>\n",
              "      <td>4.21 (50.25%)</td>\n",
              "    </tr>\n",
              "    <tr>\n",
              "      <th>L4e</th>\n",
              "      <td>4.30 (2.12%)</td>\n",
              "      <td>3.92 (10.65%)</td>\n",
              "    </tr>\n",
              "    <tr>\n",
              "      <th>L4i</th>\n",
              "      <td>5.95 (4.46%)</td>\n",
              "      <td>5.46 (4.16%)</td>\n",
              "    </tr>\n",
              "    <tr>\n",
              "      <th>L5e</th>\n",
              "      <td>7.25 (6.58%)</td>\n",
              "      <td>8.62 (26.84%)</td>\n",
              "    </tr>\n",
              "    <tr>\n",
              "      <th>L5i</th>\n",
              "      <td>8.62 (4.85%)</td>\n",
              "      <td>8.90 (8.27%)</td>\n",
              "    </tr>\n",
              "    <tr>\n",
              "      <th>L6e</th>\n",
              "      <td>0.98 (14.42%)</td>\n",
              "      <td>0.99 (13.51%)</td>\n",
              "    </tr>\n",
              "    <tr>\n",
              "      <th>L6i</th>\n",
              "      <td>7.98 (5.04%)</td>\n",
              "      <td>7.66 (0.73%)</td>\n",
              "    </tr>\n",
              "  </tbody>\n",
              "</table>\n",
              "</div>\n",
              "      <button class=\"colab-df-convert\" onclick=\"convertToInteractive('df-9c6f0fe9-c3c5-4df4-b8d6-13836659c5fa')\"\n",
              "              title=\"Convert this dataframe to an interactive table.\"\n",
              "              style=\"display:none;\">\n",
              "        \n",
              "  <svg xmlns=\"http://www.w3.org/2000/svg\" height=\"24px\"viewBox=\"0 0 24 24\"\n",
              "       width=\"24px\">\n",
              "    <path d=\"M0 0h24v24H0V0z\" fill=\"none\"/>\n",
              "    <path d=\"M18.56 5.44l.94 2.06.94-2.06 2.06-.94-2.06-.94-.94-2.06-.94 2.06-2.06.94zm-11 1L8.5 8.5l.94-2.06 2.06-.94-2.06-.94L8.5 2.5l-.94 2.06-2.06.94zm10 10l.94 2.06.94-2.06 2.06-.94-2.06-.94-.94-2.06-.94 2.06-2.06.94z\"/><path d=\"M17.41 7.96l-1.37-1.37c-.4-.4-.92-.59-1.43-.59-.52 0-1.04.2-1.43.59L10.3 9.45l-7.72 7.72c-.78.78-.78 2.05 0 2.83L4 21.41c.39.39.9.59 1.41.59.51 0 1.02-.2 1.41-.59l7.78-7.78 2.81-2.81c.8-.78.8-2.07 0-2.86zM5.41 20L4 18.59l7.72-7.72 1.47 1.35L5.41 20z\"/>\n",
              "  </svg>\n",
              "      </button>\n",
              "      \n",
              "  <style>\n",
              "    .colab-df-container {\n",
              "      display:flex;\n",
              "      flex-wrap:wrap;\n",
              "      gap: 12px;\n",
              "    }\n",
              "\n",
              "    .colab-df-convert {\n",
              "      background-color: #E8F0FE;\n",
              "      border: none;\n",
              "      border-radius: 50%;\n",
              "      cursor: pointer;\n",
              "      display: none;\n",
              "      fill: #1967D2;\n",
              "      height: 32px;\n",
              "      padding: 0 0 0 0;\n",
              "      width: 32px;\n",
              "    }\n",
              "\n",
              "    .colab-df-convert:hover {\n",
              "      background-color: #E2EBFA;\n",
              "      box-shadow: 0px 1px 2px rgba(60, 64, 67, 0.3), 0px 1px 3px 1px rgba(60, 64, 67, 0.15);\n",
              "      fill: #174EA6;\n",
              "    }\n",
              "\n",
              "    [theme=dark] .colab-df-convert {\n",
              "      background-color: #3B4455;\n",
              "      fill: #D2E3FC;\n",
              "    }\n",
              "\n",
              "    [theme=dark] .colab-df-convert:hover {\n",
              "      background-color: #434B5C;\n",
              "      box-shadow: 0px 1px 3px 1px rgba(0, 0, 0, 0.15);\n",
              "      filter: drop-shadow(0px 1px 2px rgba(0, 0, 0, 0.3));\n",
              "      fill: #FFFFFF;\n",
              "    }\n",
              "  </style>\n",
              "\n",
              "      <script>\n",
              "        const buttonEl =\n",
              "          document.querySelector('#df-9c6f0fe9-c3c5-4df4-b8d6-13836659c5fa button.colab-df-convert');\n",
              "        buttonEl.style.display =\n",
              "          google.colab.kernel.accessAllowed ? 'block' : 'none';\n",
              "\n",
              "        async function convertToInteractive(key) {\n",
              "          const element = document.querySelector('#df-9c6f0fe9-c3c5-4df4-b8d6-13836659c5fa');\n",
              "          const dataTable =\n",
              "            await google.colab.kernel.invokeFunction('convertToInteractive',\n",
              "                                                     [key], {});\n",
              "          if (!dataTable) return;\n",
              "\n",
              "          const docLinkHtml = 'Like what you see? Visit the ' +\n",
              "            '<a target=\"_blank\" href=https://colab.research.google.com/notebooks/data_table.ipynb>data table notebook</a>'\n",
              "            + ' to learn more about interactive tables.';\n",
              "          element.innerHTML = '';\n",
              "          dataTable['output_type'] = 'display_data';\n",
              "          await google.colab.output.renderOutput(dataTable, element);\n",
              "          const docLink = document.createElement('div');\n",
              "          docLink.innerHTML = docLinkHtml;\n",
              "          element.appendChild(docLink);\n",
              "        }\n",
              "      </script>\n",
              "    </div>\n",
              "  </div>\n",
              "  "
            ],
            "text/plain": [
              "                2%             1%\n",
              "L2e  0.69 (23.06%)  0.75 (16.40%)\n",
              "L2i  3.84 (37.32%)  4.21 (50.25%)\n",
              "L4e   4.30 (2.12%)  3.92 (10.65%)\n",
              "L4i   5.95 (4.46%)   5.46 (4.16%)\n",
              "L5e   7.25 (6.58%)  8.62 (26.84%)\n",
              "L5i   8.62 (4.85%)   8.90 (8.27%)\n",
              "L6e  0.98 (14.42%)  0.99 (13.51%)\n",
              "L6i   7.98 (5.04%)   7.66 (0.73%)"
            ]
          },
          "metadata": {},
          "execution_count": 16
        }
      ]
    },
    {
      "cell_type": "markdown",
      "metadata": {
        "id": "dS-B9t7dzDYR"
      },
      "source": [
        "# Bonus content: a graph"
      ]
    },
    {
      "cell_type": "markdown",
      "metadata": {
        "id": "kYF1c_2V5bbw"
      },
      "source": [
        "Automating your test suite enables you to draw a graph illustrating your results on every test suite run virtually for free.  \n",
        "\n",
        "Let's draw a graph that will show us which cortical layers are subjected to the higher error rate.  \n",
        "\n",
        "Looking at the graph, we see that for the **2%** and **1%**-scale models, **L2e** and **L2i**-layer **mean population firing rates** were most unlike those in the **100%**-scale model (using the \"relative deviation\" measure).  \n",
        "The PDCM paper took notice of this too: \"*The populations with the largest relative deviations were L2/3e and L2/3i, but even these generally exhibited maximum relative deviations under 30% (scaling)*\"."
      ]
    },
    {
      "cell_type": "code",
      "metadata": {
        "colab": {
          "base_uri": "https://localhost:8080/",
          "height": 289
        },
        "id": "H2f5ugmYzzyp",
        "outputId": "96ec1f46-d0bb-47de-cc8b-5d08c48d3c6a"
      },
      "source": [
        "import numpy as np\n",
        "import pandas as pd\n",
        "import matplotlib.pyplot as plt\n",
        "import seaborn as sns\n",
        "%matplotlib inline\n",
        "\n",
        "layers = ['L2e', 'L2i', 'L4e', 'L4i', 'L5e', 'L5i', 'L6e', 'L6i']\n",
        "plt.plot(layers, score_matrix.scores.to_numpy()[0] * 100, label=\"2%-scaled model\")\n",
        "plt.plot(layers, score_matrix.scores.to_numpy()[1] * 100, label=\"1%-scaled model\")\n",
        "plt.xlabel(\"Cortical Layers\")\n",
        "plt.ylabel(\"Relative deviation in %\")\n",
        "plt.legend()\n",
        "plt.show()"
      ],
      "execution_count": 8,
      "outputs": [
        {
          "output_type": "display_data",
          "data": {
            "image/png": "[encoded data removed]",
            "text/plain": [
              "<Figure size 432x288 with 1 Axes>"
            ]
          },
          "metadata": {
            "needs_background": "light"
          }
        }
      ]
    }
  ]
}