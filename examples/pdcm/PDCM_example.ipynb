{
  "nbformat": 4,
  "nbformat_minor": 0,
  "metadata": {
    "colab": {
      "name": "PDCM_example.ipynb",
      "provenance": [],
      "collapsed_sections": []
    },
    "kernelspec": {
      "name": "python3",
      "display_name": "Python 3"
    },
    "language_info": {
      "name": "python"
    }
  },
  "cells": [
    {
      "cell_type": "markdown",
      "metadata": {
        "id": "view-in-github",
        "colab_type": "text"
      },
      "source": [
        "<a href=\"https://colab.research.google.com/gist/lakesare/17d2c457a0be6f4348919fd7e449d544/pdcm_example.ipynb\" target=\"_parent\"><img src=\"https://colab.research.google.com/assets/colab-badge.svg\" alt=\"Open In Colab\"/></a>"
      ]
    },
    {
      "cell_type": "markdown",
      "metadata": {
        "id": "ekVrygCmrTqD"
      },
      "source": [
        "# Description\n",
        "\n",
        "This example recreates the [PDCM paper](https://direct.mit.edu/neco/article-pdf/33/7/1993/1925382/neco_a_01400.pdf) (Romaro & Salvador Dura-Bernal, et al., 2021) in **SciUnit**.  \n",
        "\n",
        "The **PDCM** (**Potjans-Diesmann Cortical Microcircuit**) paper describes the process of converting the model of the 1mm2 sensory cortical network from **NEST** to **NetPyNE**, and of rescaling the resulting **NetPyNE** network while preserving the first- and second-order statistics (see [Github](https://github.com/ceciliaromaro/PDCM_NetPyNE) for the **NetPyNE** code).\n",
        "\n",
        "Our colab doesn't recreate the entire paper: the **run.py** file recreates **Table A1** and **Table A2**, and each of these will take hours to run on a single core.  \n",
        "In this colab, we will show the **first 2 rows** of the **Table A1**: the **1%** and the **2%** **NetPyNE** model, tested for the population mean firing rate against the **100%**-sized network.  \n",
        "The only difference between the code used in the original paper, and the code we use in this colab is that they run the simulation for 60 seconds, and we run it for 1 second - again, to shorten the waiting time. This does not affect the results significantly."
      ]
    },
    {
      "cell_type": "markdown",
      "metadata": {
        "id": "SF1aJi-hka8a"
      },
      "source": [
        "# Install the packages"
      ]
    },
    {
      "cell_type": "code",
      "metadata": {
        "id": "d3BAWD54OMjH"
      },
      "source": [
        "%%capture\n",
        "!pip install https://github.com/rgerkin/netpyneunit/archive/refs/heads/main.zip\n",
        "!pip install neuron\n",
        "# This will be unnecessary after Richard releases the new version of SciUnit\n",
        "!pip install --upgrade --no-deps --force-reinstall https://github.com/scidash/sciunit/archive/refs/heads/master.zip\n",
        "\n",
        "!git clone https://github.com/rgerkin/netpyneunit.git"
      ],
      "execution_count": 8,
      "outputs": []
    },
    {
      "cell_type": "markdown",
      "metadata": {
        "id": "bWdZldRgkmG2"
      },
      "source": [
        "# Run the example"
      ]
    },
    {
      "cell_type": "markdown",
      "metadata": {
        "id": "Kndisr2eoRL2"
      },
      "source": [
        "Enter the **PDCM example** directory: "
      ]
    },
    {
      "cell_type": "code",
      "metadata": {
        "id": "plySE0NxfZSE",
        "colab": {
          "base_uri": "https://localhost:8080/"
        },
        "outputId": "7cb9de0a-6ab3-4ae4-8c30-00df6c2cd7df"
      },
      "source": [
        "%cd netpyneunit/examples/pdcm"
      ],
      "execution_count": 9,
      "outputs": [
        {
          "output_type": "stream",
          "text": [
            "/content/netpyneunit/examples/pdcm/netpyneunit/examples/pdcm\n"
          ],
          "name": "stdout"
        }
      ]
    },
    {
      "cell_type": "markdown",
      "metadata": {
        "id": "EW9MHV2oocII"
      },
      "source": [
        "Compile our **examples/pdcm/*.mod** files:"
      ]
    },
    {
      "cell_type": "code",
      "metadata": {
        "id": "2cz2Gk_KS5Kn",
        "colab": {
          "base_uri": "https://localhost:8080/"
        },
        "outputId": "5a472a8c-2357-4eb1-f85c-70a7af87d777"
      },
      "source": [
        "!nrnivmodl"
      ],
      "execution_count": 10,
      "outputs": [
        {
          "output_type": "stream",
          "text": [
            "/content/netpyneunit/examples/pdcm/netpyneunit/examples/pdcm\n",
            "Mod files: \"./intFire_PD.mod\"\n",
            "\n",
            "Creating x86_64 directory for .o files.\n",
            "\n",
            "COBJS=''\n",
            " -> \u001b[32mCompiling\u001b[0m mod_func.c\n",
            "x86_64-linux-gnu-gcc -O2   -I.   -I/usr/local/lib/python3.7/dist-packages/neuron/.data/include  -I/nrnwheel/openmpi/include -fPIC -c mod_func.c -o mod_func.o\n",
            " -> \u001b[32mNMODL\u001b[0m ../intFire_PD.mod\n",
            "(cd \"..\"; MODLUNIT=/usr/local/lib/python3.7/dist-packages/neuron/.data/share/nrn/lib/nrnunits.lib /usr/local/lib/python3.7/dist-packages/neuron/.data/bin/nocmodl intFire_PD.mod -o \"/content/netpyneunit/examples/pdcm/netpyneunit/examples/pdcm/x86_64\")\n",
            "Translating intFire_PD.mod into /content/netpyneunit/examples/pdcm/netpyneunit/examples/pdcm/x86_64/intFire_PD.c\n",
            "Thread Safe\n",
            " -> \u001b[32mCompiling\u001b[0m intFire_PD.c\n",
            "x86_64-linux-gnu-gcc -O2   -I\"..\" -I.   -I/usr/local/lib/python3.7/dist-packages/neuron/.data/include  -I/nrnwheel/openmpi/include -fPIC -c intFire_PD.c -o intFire_PD.o\n",
            " => \u001b[32mLINKING\u001b[0m shared library ./libnrnmech.so\n",
            "x86_64-linux-gnu-g++ -O2 -DVERSION_INFO='8.0.0' -std=c++11 -shared -fPIC  -I /usr/local/lib/python3.7/dist-packages/neuron/.data/include -o ./libnrnmech.so -Wl,-soname,libnrnmech.so \\\n",
            "  ./mod_func.o ./intFire_PD.o  -L/usr/local/lib/python3.7/dist-packages/neuron/.data/lib -lnrniv -Wl,-rpath,/usr/local/lib/python3.7/dist-packages/neuron/.data/lib   \n",
            "rm -f ./.libs/libnrnmech.so ; mkdir -p ./.libs ; cp ./libnrnmech.so ./.libs/libnrnmech.so\n",
            "Successfully created x86_64/special\n"
          ],
          "name": "stdout"
        }
      ]
    },
    {
      "cell_type": "markdown",
      "metadata": {
        "id": "42bqx1dHowv5"
      },
      "source": [
        "Import the **examples/pdcm/*** classes.  "
      ]
    },
    {
      "cell_type": "code",
      "metadata": {
        "id": "pln9lYdmd45y"
      },
      "source": [
        "import sciunit\n",
        "from PdcmModel import PdcmModel\n",
        "from tests import PopulationMeanFiringRateTest"
      ],
      "execution_count": 11,
      "outputs": []
    },
    {
      "cell_type": "markdown",
      "metadata": {
        "id": "k71o4s3oU5jF"
      },
      "source": [
        "### Surveying Table A1\n",
        "\n",
        "Let's take a look at **Table A1** of the [PDCM paper](https://direct.mit.edu/neco/article-pdf/33/7/1993/1925382/neco_a_01400.pdf).  \n",
        "The **NEST trial** row shows the stats of the **NEST** model (Gewaltig\n",
        "& Diesmann, 2007) the paper tried to recreate.  \n",
        "The **100%** row shows the stats of the full-scale **NetPyNE** model.  \n",
        "The **80%**, **...**, **1%** rows show the stats of various scalings of the *NetPyNE* model.\n",
        "\n",
        "We take the stats of the **100% NetPyNE** model as our ideal result (or observation in the parlance of **SciUnit**), and try to determine how closely **1%** and **2%-scaled NetPyNE** models can match it.\n",
        "\n",
        "<img width=800 src=\"https://drive.google.com/uc?id=1l2nFa4iz4Vb4wDkynHIiHcyqrpDA-paf\"/>"
      ]
    },
    {
      "cell_type": "markdown",
      "metadata": {
        "id": "PjFT8VJ4X5P0"
      },
      "source": [
        "### Defining our models\n",
        "\n",
        "**PdcmModel** injects the global `sim` object with the data suitable for the current model.  \n",
        "Once a particular model (e.g. `model_1`) runs, its results will be cached.  \n",
        "For example, if we didn't have cache enabled, each test would rerun the model. Currently, only the first test will execute `sim.runSim()` for each model.\n",
        "\n",
        "Just like in the **Table A1**, the external input for our sims is **Balanced Poisson**.  \n",
        "The **duration**, however, is set to **1 second**. Feel free to change it to **60 seconds** if you're willing to sacrifice some time to hit closer to the results in the paper!\n"
      ]
    },
    {
      "cell_type": "code",
      "metadata": {
        "id": "nGHCUfSfX268"
      },
      "source": [
        "model_2 = PdcmModel(name=\"2%\", scale=0.02, ext_input=\"balanced_poisson\", duration=1*1e3)\n",
        "model_1 = PdcmModel(name=\"1%\", scale=0.01, ext_input=\"balanced_poisson\", duration=1*1e3)"
      ],
      "execution_count": 12,
      "outputs": []
    },
    {
      "cell_type": "markdown",
      "metadata": {
        "id": "XtHJBRR2b0pq"
      },
      "source": [
        "### Setting up our tests  \n",
        "\n",
        "Each `'value'` represents the perfect value our resized models should strive to achieve.  \n",
        "For example, the **100% NetPyNE** model has the **population mean firing rate** of **0.90** in the layer **L2e/L3e**.  \n",
        "We hope our **model_1** and **model_2** have similar stats in this layer.  \n",
        "\n",
        "Just like in the paper, we want to see the \"**relative deviation**\" between the perfect value and the model result. Our `PopulationMeanFiringRateTest` calculates this value using the `sciunit.scores.RelativeDifferenceScore` class native to **SciUnit**.\n"
      ]
    },
    {
      "cell_type": "code",
      "metadata": {
        "id": "1XghmBi0eBGf",
        "colab": {
          "base_uri": "https://localhost:8080/"
        },
        "outputId": "5617bc9e-af74-41a9-eb13-23f57bccf0bd"
      },
      "source": [
        "%%capture\n",
        "test_L2e = PopulationMeanFiringRateTest({ 'value': 0.90, 'layer': 'L2e' }, name='L2e')\n",
        "test_L2i = PopulationMeanFiringRateTest({ 'value': 2.80, 'layer': 'L2i' }, name='L2i')\n",
        "test_L4e = PopulationMeanFiringRateTest({ 'value': 4.39, 'layer': 'L4e' }, name='L4e')\n",
        "test_L4i = PopulationMeanFiringRateTest({ 'value': 5.70, 'layer': 'L4i' }, name='L4i')\n",
        "test_L5e = PopulationMeanFiringRateTest({ 'value': 6.80, 'layer': 'L5e' }, name='L5e')\n",
        "test_L5i = PopulationMeanFiringRateTest({ 'value': 8.22, 'layer': 'L5i' }, name='L5i')\n",
        "test_L6e = PopulationMeanFiringRateTest({ 'value': 1.14, 'layer': 'L6e' }, name='L6e')\n",
        "test_L6i = PopulationMeanFiringRateTest({ 'value': 7.60, 'layer': 'L6i' }, name='L6i')\n",
        "\n",
        "suite = sciunit.TestSuite(\n",
        "  [test_L2e, test_L2i, test_L4e, test_L4i, test_L5e, test_L5i, test_L6e, test_L6i],\n",
        "  name=\"Population Mean Firing Rate: Balanced Poisson\"\n",
        ")\n",
        "table = suite.judge(\n",
        "  [model_2, model_1]\n",
        ")"
      ],
      "execution_count": 13,
      "outputs": [
        {
          "output_type": "stream",
          "text": [
            "\u001b[38;2;152;211;104m\u001b[48;2;50;50;50mScore: 0.69 (23.06%) for 2% on L2e\u001b[0m\n",
            "\u001b[38;2;185;226;118m\u001b[48;2;50;50;50mScore: 3.84 (37.32%) for 2% on L2i\u001b[0m\n",
            "\u001b[38;2;72;175;91m\u001b[48;2;50;50;50mScore: 4.30 (2.12%) for 2% on L4e\u001b[0m\n",
            "\u001b[38;2;84;181;94m\u001b[48;2;50;50;50mScore: 5.95 (4.46%) for 2% on L4i\u001b[0m\n",
            "\u001b[38;2;96;186;97m\u001b[48;2;50;50;50mScore: 7.25 (6.58%) for 2% on L5e\u001b[0m\n",
            "\u001b[38;2;87;182;95m\u001b[48;2;50;50;50mScore: 8.62 (4.85%) for 2% on L5i\u001b[0m\n",
            "\u001b[38;2;125;199;101m\u001b[48;2;50;50;50mScore: 0.98 (14.42%) for 2% on L6e\u001b[0m\n",
            "\u001b[38;2;87;182;95m\u001b[48;2;50;50;50mScore: 7.98 (5.04%) for 2% on L6i\u001b[0m\n",
            "\u001b[38;2;132;202;102m\u001b[48;2;50;50;50mScore: 0.75 (16.40%) for 1% on L2e\u001b[0m\n",
            "\u001b[38;2;209;236;134m\u001b[48;2;50;50;50mScore: 4.21 (50.25%) for 1% on L2i\u001b[0m\n",
            "\u001b[38;2;112;194;100m\u001b[48;2;50;50;50mScore: 3.92 (10.65%) for 1% on L4e\u001b[0m\n",
            "\u001b[38;2;84;181;94m\u001b[48;2;50;50;50mScore: 5.46 (4.16%) for 1% on L4i\u001b[0m\n",
            "\u001b[38;2;165;217;106m\u001b[48;2;50;50;50mScore: 8.62 (26.84%) for 1% on L5e\u001b[0m\n",
            "\u001b[38;2;102;189;99m\u001b[48;2;50;50;50mScore: 8.90 (8.27%) for 1% on L5i\u001b[0m\n",
            "\u001b[38;2;122;198;101m\u001b[48;2;50;50;50mScore: 0.99 (13.51%) for 1% on L6e\u001b[0m\n",
            "\u001b[38;2;66;172;90m\u001b[48;2;50;50;50mScore: 7.66 (0.73%) for 1% on L6i\u001b[0m\n"
          ],
          "name": "stdout"
        }
      ]
    },
    {
      "cell_type": "markdown",
      "metadata": {
        "id": "uJJTsn5Xe5RQ"
      },
      "source": [
        "### Finally, the results\n",
        "\n",
        "Take a look at the **NetpyneUnit** table below, and compare it to the **Table A1** from the paper.\n",
        "\n",
        "`___Table A1, 2% model, L2e:` **0.69 (23%)**  \n",
        "`Our results, 2% model, L2e:` **0.69 (23.06%)**  \n",
        "\n",
        "`___Table A1, 1% model, L2e:` **0.71 (21%)**   \n",
        "`Our results, 1% model, L2e:` **0.75 (16.40%)**  \n",
        "\n",
        "`___Table A1, 2% model, L2i:` **3.8 (36%)**  \n",
        "`Our results, 2% model, L2e:` **3.84 (37.32%)**  \n",
        "\n",
        "🍀 **Our results match the results in the paper** 🍀  \n",
        "(It's also expected that our results won't match completely.\n",
        "The initial values for the membrane potential of each neuron in our **NetPyNE** model are randomized; the **Balanced Poisson** external input additionally introduces other sources of randomness.\n",
        "And again - we run our simulation for 1 second, they run it for 60 seconds)\n"
      ]
    },
    {
      "cell_type": "code",
      "metadata": {
        "colab": {
          "base_uri": "https://localhost:8080/",
          "height": 82
        },
        "id": "CopLYyxFe7wu",
        "outputId": "79348d88-3436-4aa3-e0b4-3bd14b5df157"
      },
      "source": [
        "table"
      ],
      "execution_count": 14,
      "outputs": [
        {
          "output_type": "execute_result",
          "data": {
            "text/html": [
              "<style  type=\"text/css\" >\n",
              "#T_e841e400_04cc_11ec_b416_0242ac1c0002row0_col0{\n",
              "            background-color:  rgb(50, 50, 50);\n",
              "             color:  rgb(152, 211, 104);\n",
              "             text-align:  center;\n",
              "        }#T_e841e400_04cc_11ec_b416_0242ac1c0002row0_col1{\n",
              "            background-color:  rgb(50, 50, 50);\n",
              "             color:  rgb(185, 226, 118);\n",
              "             text-align:  center;\n",
              "        }#T_e841e400_04cc_11ec_b416_0242ac1c0002row0_col2{\n",
              "            background-color:  rgb(50, 50, 50);\n",
              "             color:  rgb(72, 175, 91);\n",
              "             text-align:  center;\n",
              "        }#T_e841e400_04cc_11ec_b416_0242ac1c0002row0_col3,#T_e841e400_04cc_11ec_b416_0242ac1c0002row1_col3{\n",
              "            background-color:  rgb(50, 50, 50);\n",
              "             color:  rgb(84, 181, 94);\n",
              "             text-align:  center;\n",
              "        }#T_e841e400_04cc_11ec_b416_0242ac1c0002row0_col4{\n",
              "            background-color:  rgb(50, 50, 50);\n",
              "             color:  rgb(96, 186, 97);\n",
              "             text-align:  center;\n",
              "        }#T_e841e400_04cc_11ec_b416_0242ac1c0002row0_col5,#T_e841e400_04cc_11ec_b416_0242ac1c0002row0_col7{\n",
              "            background-color:  rgb(50, 50, 50);\n",
              "             color:  rgb(87, 182, 95);\n",
              "             text-align:  center;\n",
              "        }#T_e841e400_04cc_11ec_b416_0242ac1c0002row0_col6{\n",
              "            background-color:  rgb(50, 50, 50);\n",
              "             color:  rgb(125, 199, 101);\n",
              "             text-align:  center;\n",
              "        }#T_e841e400_04cc_11ec_b416_0242ac1c0002row1_col0{\n",
              "            background-color:  rgb(50, 50, 50);\n",
              "             color:  rgb(132, 202, 102);\n",
              "             text-align:  center;\n",
              "        }#T_e841e400_04cc_11ec_b416_0242ac1c0002row1_col1{\n",
              "            background-color:  rgb(50, 50, 50);\n",
              "             color:  rgb(209, 236, 134);\n",
              "             text-align:  center;\n",
              "        }#T_e841e400_04cc_11ec_b416_0242ac1c0002row1_col2{\n",
              "            background-color:  rgb(50, 50, 50);\n",
              "             color:  rgb(112, 194, 100);\n",
              "             text-align:  center;\n",
              "        }#T_e841e400_04cc_11ec_b416_0242ac1c0002row1_col4{\n",
              "            background-color:  rgb(50, 50, 50);\n",
              "             color:  rgb(165, 217, 106);\n",
              "             text-align:  center;\n",
              "        }#T_e841e400_04cc_11ec_b416_0242ac1c0002row1_col5{\n",
              "            background-color:  rgb(50, 50, 50);\n",
              "             color:  rgb(102, 189, 99);\n",
              "             text-align:  center;\n",
              "        }#T_e841e400_04cc_11ec_b416_0242ac1c0002row1_col6{\n",
              "            background-color:  rgb(50, 50, 50);\n",
              "             color:  rgb(122, 198, 101);\n",
              "             text-align:  center;\n",
              "        }#T_e841e400_04cc_11ec_b416_0242ac1c0002row1_col7{\n",
              "            background-color:  rgb(50, 50, 50);\n",
              "             color:  rgb(66, 172, 90);\n",
              "             text-align:  center;\n",
              "        }</style><table id=\"T_e841e400_04cc_11ec_b416_0242ac1c0002\" ><thead>    <tr>        <th class=\"blank level0\" ></th>        <th class=\"col_heading level0 col0\" >L2e</th>        <th class=\"col_heading level0 col1\" >L2i</th>        <th class=\"col_heading level0 col2\" >L4e</th>        <th class=\"col_heading level0 col3\" >L4i</th>        <th class=\"col_heading level0 col4\" >L5e</th>        <th class=\"col_heading level0 col5\" >L5i</th>        <th class=\"col_heading level0 col6\" >L6e</th>        <th class=\"col_heading level0 col7\" >L6i</th>    </tr></thead><tbody>\n",
              "                <tr>\n",
              "                        <th id=\"T_e841e400_04cc_11ec_b416_0242ac1c0002level0_row0\" class=\"row_heading level0 row0\" >2%</th>\n",
              "                        <td id=\"T_e841e400_04cc_11ec_b416_0242ac1c0002row0_col0\" class=\"data row0 col0\" >0.69 (23.06%)</td>\n",
              "                        <td id=\"T_e841e400_04cc_11ec_b416_0242ac1c0002row0_col1\" class=\"data row0 col1\" >3.84 (37.32%)</td>\n",
              "                        <td id=\"T_e841e400_04cc_11ec_b416_0242ac1c0002row0_col2\" class=\"data row0 col2\" >4.30 (2.12%)</td>\n",
              "                        <td id=\"T_e841e400_04cc_11ec_b416_0242ac1c0002row0_col3\" class=\"data row0 col3\" >5.95 (4.46%)</td>\n",
              "                        <td id=\"T_e841e400_04cc_11ec_b416_0242ac1c0002row0_col4\" class=\"data row0 col4\" >7.25 (6.58%)</td>\n",
              "                        <td id=\"T_e841e400_04cc_11ec_b416_0242ac1c0002row0_col5\" class=\"data row0 col5\" >8.62 (4.85%)</td>\n",
              "                        <td id=\"T_e841e400_04cc_11ec_b416_0242ac1c0002row0_col6\" class=\"data row0 col6\" >0.98 (14.42%)</td>\n",
              "                        <td id=\"T_e841e400_04cc_11ec_b416_0242ac1c0002row0_col7\" class=\"data row0 col7\" >7.98 (5.04%)</td>\n",
              "            </tr>\n",
              "            <tr>\n",
              "                        <th id=\"T_e841e400_04cc_11ec_b416_0242ac1c0002level0_row1\" class=\"row_heading level0 row1\" >1%</th>\n",
              "                        <td id=\"T_e841e400_04cc_11ec_b416_0242ac1c0002row1_col0\" class=\"data row1 col0\" >0.75 (16.40%)</td>\n",
              "                        <td id=\"T_e841e400_04cc_11ec_b416_0242ac1c0002row1_col1\" class=\"data row1 col1\" >4.21 (50.25%)</td>\n",
              "                        <td id=\"T_e841e400_04cc_11ec_b416_0242ac1c0002row1_col2\" class=\"data row1 col2\" >3.92 (10.65%)</td>\n",
              "                        <td id=\"T_e841e400_04cc_11ec_b416_0242ac1c0002row1_col3\" class=\"data row1 col3\" >5.46 (4.16%)</td>\n",
              "                        <td id=\"T_e841e400_04cc_11ec_b416_0242ac1c0002row1_col4\" class=\"data row1 col4\" >8.62 (26.84%)</td>\n",
              "                        <td id=\"T_e841e400_04cc_11ec_b416_0242ac1c0002row1_col5\" class=\"data row1 col5\" >8.90 (8.27%)</td>\n",
              "                        <td id=\"T_e841e400_04cc_11ec_b416_0242ac1c0002row1_col6\" class=\"data row1 col6\" >0.99 (13.51%)</td>\n",
              "                        <td id=\"T_e841e400_04cc_11ec_b416_0242ac1c0002row1_col7\" class=\"data row1 col7\" >7.66 (0.73%)</td>\n",
              "            </tr>\n",
              "    </tbody></table>"
            ],
            "text/plain": [
              "              L2e            L2i  ...            L6e           L6i\n",
              "2%  0.69 (23.06%)  3.84 (37.32%)  ...  0.98 (14.42%)  7.98 (5.04%)\n",
              "1%  0.75 (16.40%)  4.21 (50.25%)  ...  0.99 (13.51%)  7.66 (0.73%)\n",
              "\n",
              "[2 rows x 8 columns]"
            ]
          },
          "metadata": {},
          "execution_count": 14
        }
      ]
    }
  ]
}
